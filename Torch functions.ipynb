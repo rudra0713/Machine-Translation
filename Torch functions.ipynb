{
 "cells": [
  {
   "cell_type": "code",
   "execution_count": 7,
   "metadata": {},
   "outputs": [
    {
     "name": "stdout",
     "output_type": "stream",
     "text": [
      "torch.Size([2, 2, 3])\n",
      "torch.Size([2, 2, 3])\n",
      "tensor(2)\n",
      "torch.Size([4, 2, 3])\n",
      "tensor([[[  1.,   2.,   3.],\n",
      "         [  4.,   5.,   6.]],\n",
      "\n",
      "        [[  7.,   8.,   9.],\n",
      "         [ 11.,  12.,  13.]],\n",
      "\n",
      "        [[100., 200., 300.],\n",
      "         [  4.,   5.,   6.]],\n",
      "\n",
      "        [[  7.,   8.,   9.],\n",
      "         [ 11.,  12.,  13.]]])\n",
      "torch.Size([2, 4, 3])\n",
      "tensor([[[  1.,   2.,   3.],\n",
      "         [  4.,   5.,   6.],\n",
      "         [100., 200., 300.],\n",
      "         [  4.,   5.,   6.]],\n",
      "\n",
      "        [[  7.,   8.,   9.],\n",
      "         [ 11.,  12.,  13.],\n",
      "         [  7.,   8.,   9.],\n",
      "         [ 11.,  12.,  13.]]])\n",
      "tensor([[1., 4., 7.],\n",
      "        [2., 5., 8.]])\n",
      "4\n"
     ]
    }
   ],
   "source": [
    "import torch\n",
    "\n",
    "d = [ [[1., 2.,3.], [4.,5.,6.]], [[7.,8.,9.], [11.,12.,13.]] ]\n",
    "d = torch.Tensor(d)\n",
    "\n",
    "e = [ [[100., 2.,300.], [4.,500.,6.]], [[7.,8.,9.], [11.,12.,13.]]]\n",
    "e = torch.Tensor(e)\n",
    "\n",
    "\n",
    "\n",
    "print(d.shape)\n",
    "print(e.shape)\n",
    "\n",
    "print(e[0][0].max(0)[1])\n",
    "x = torch.cat((d,e), dim = 0)\n",
    "print(x.shape)\n",
    "\n",
    "print(x)\n",
    "y = torch.cat((d,e), dim = 1)\n",
    "print(y.shape)\n",
    "print(y)\n",
    "\n",
    "a = torch.tensor([[1., 2.,], [4.,5.,], [7,8]])\n",
    "print(a.transpose(0,1))\n",
    "b = torch.tensor([1., 2., 5., 7,8])\n",
    "v, i = b.max(0)\n",
    "print(i.item())\n"
   ]
  },
  {
   "cell_type": "code",
   "execution_count": 24,
   "metadata": {},
   "outputs": [
    {
     "name": "stdout",
     "output_type": "stream",
     "text": [
      "tensor([1, 2, 3, 4])\n",
      "tensor([[1, 2, 3, 4],\n",
      "        [1, 2, 3, 4],\n",
      "        [1, 2, 3, 4],\n",
      "        [1, 2, 3, 4],\n",
      "        [1, 2, 3, 4],\n",
      "        [1, 2, 3, 4],\n",
      "        [1, 2, 3, 4],\n",
      "        [1, 2, 3, 4],\n",
      "        [1, 2, 3, 4],\n",
      "        [1, 2, 3, 4]])\n"
     ]
    }
   ],
   "source": [
    "a = [1,2,3,4]\n",
    "b = torch.tensor(a)\n",
    "print(b)\n",
    "# print(b.unsqueeze(1))\n",
    "print(b.repeat(10,1))"
   ]
  },
  {
   "cell_type": "code",
   "execution_count": 10,
   "metadata": {},
   "outputs": [
    {
     "name": "stdout",
     "output_type": "stream",
     "text": [
      "torch.Size([2, 3, 2, 2])\n"
     ]
    }
   ],
   "source": [
    "c = torch.zeros(2,3,2,1,2)\n",
    "print(c.squeeze(3).shape)"
   ]
  },
  {
   "cell_type": "code",
   "execution_count": 12,
   "metadata": {},
   "outputs": [
    {
     "name": "stdout",
     "output_type": "stream",
     "text": [
      "tensor([[1., 2., 3.],\n",
      "        [4., 5., 6.]])\n"
     ]
    }
   ],
   "source": [
    "print(d[-2, :, :])"
   ]
  },
  {
   "cell_type": "code",
   "execution_count": 3,
   "metadata": {},
   "outputs": [
    {
     "name": "stdout",
     "output_type": "stream",
     "text": [
      "torch.Size([3, 5])\n",
      "torch.Size([1, 3, 5])\n",
      "torch.Size([3, 5])\n",
      "torch.Size([1, 2, 3, 5])\n",
      "tensor([[[[1, 2, 3, 4, 5],\n",
      "          [1, 2, 3, 4, 6],\n",
      "          [1, 2, 3, 4, 7]],\n",
      "\n",
      "         [[1, 2, 3, 4, 5],\n",
      "          [1, 2, 3, 4, 6],\n",
      "          [1, 2, 3, 4, 7]]]])\n",
      "torch.Size([2, 3, 5])\n",
      "tensor([[[1, 2, 3, 4, 5],\n",
      "         [1, 2, 3, 4, 6],\n",
      "         [1, 2, 3, 4, 7]],\n",
      "\n",
      "        [[1, 2, 3, 4, 5],\n",
      "         [1, 2, 3, 4, 6],\n",
      "         [1, 2, 3, 4, 7]]])\n"
     ]
    }
   ],
   "source": [
    "x = [[1,2,3,4,5], [1,2,3,4,6], [1,2,3,4,7]]\n",
    "y = torch.tensor(x)\n",
    "print(y.shape)\n",
    "print(y.unsqueeze(0).shape)\n",
    "print(y.shape)\n",
    "\n",
    "\n",
    "z = y.repeat(2,1,1).unsqueeze(0)\n",
    "print(z.shape)\n",
    "print(z)\n",
    "w = y.unsqueeze(0).repeat(2,1,1)\n",
    "print(w.shape)\n",
    "print(w)"
   ]
  },
  {
   "cell_type": "code",
   "execution_count": 31,
   "metadata": {},
   "outputs": [
    {
     "name": "stdout",
     "output_type": "stream",
     "text": [
      "torch.Size([64, 100, 1, 1])\n"
     ]
    }
   ],
   "source": [
    "fixed_noise = torch.randn(64, 100, 1, 1)\n",
    "print(fixed_noise.shape)\n",
    "\n"
   ]
  },
  {
   "cell_type": "code",
   "execution_count": 35,
   "metadata": {},
   "outputs": [
    {
     "name": "stdout",
     "output_type": "stream",
     "text": [
      "tensor([  2., 500.,   8.,  12.])\n",
      "[2.0, 500.0, 8.0, 12.0]\n",
      "tensor(500.)\n",
      "1\n"
     ]
    }
   ],
   "source": [
    "import torch\n",
    "e =  [[100., 2.,300.], [4.,500.,6.], [7.,8.,9.], [11.,12.,13.]]\n",
    "e = torch.Tensor(e)\n",
    "x = e[:, 1]\n",
    "print(x)\n",
    "print(list(x.numpy()))\n",
    "values, indices = x.max(0)\n",
    "print(values)\n",
    "print(indices.item())\n",
    "\n"
   ]
  },
  {
   "cell_type": "code",
   "execution_count": 40,
   "metadata": {},
   "outputs": [
    {
     "name": "stdout",
     "output_type": "stream",
     "text": [
      "torch.Size([3, 2, 6])\n"
     ]
    },
    {
     "ename": "RuntimeError",
     "evalue": "Dimension out of range (expected to be in range of [-1, 0], but got 1)",
     "output_type": "error",
     "traceback": [
      "\u001b[0;31m---------------------------------------------------------------------------\u001b[0m",
      "\u001b[0;31mRuntimeError\u001b[0m                              Traceback (most recent call last)",
      "\u001b[0;32m<ipython-input-40-4f3cdece4d2a>\u001b[0m in \u001b[0;36m<module>\u001b[0;34m()\u001b[0m\n\u001b[1;32m      7\u001b[0m \u001b[0md\u001b[0m \u001b[0;34m=\u001b[0m \u001b[0mtorch\u001b[0m\u001b[0;34m.\u001b[0m\u001b[0mTensor\u001b[0m\u001b[0;34m(\u001b[0m\u001b[0md\u001b[0m\u001b[0;34m)\u001b[0m\u001b[0;34m\u001b[0m\u001b[0m\n\u001b[1;32m      8\u001b[0m \u001b[0mprint\u001b[0m\u001b[0;34m(\u001b[0m\u001b[0md\u001b[0m\u001b[0;34m.\u001b[0m\u001b[0mshape\u001b[0m\u001b[0;34m)\u001b[0m\u001b[0;34m\u001b[0m\u001b[0m\n\u001b[0;32m----> 9\u001b[0;31m \u001b[0mprint\u001b[0m\u001b[0;34m(\u001b[0m\u001b[0md\u001b[0m\u001b[0;34m[\u001b[0m\u001b[0;36m0\u001b[0m\u001b[0;34m]\u001b[0m\u001b[0;34m[\u001b[0m\u001b[0;36m0\u001b[0m\u001b[0;34m]\u001b[0m\u001b[0;34m.\u001b[0m\u001b[0mmax\u001b[0m\u001b[0;34m(\u001b[0m\u001b[0;36m1\u001b[0m\u001b[0;34m)\u001b[0m\u001b[0;34m)\u001b[0m\u001b[0;34m\u001b[0m\u001b[0m\n\u001b[0m\u001b[1;32m     10\u001b[0m \u001b[0my\u001b[0m \u001b[0;34m=\u001b[0m \u001b[0;34m[\u001b[0m\u001b[0;34m]\u001b[0m\u001b[0;34m\u001b[0m\u001b[0m\n\u001b[1;32m     11\u001b[0m \u001b[0;32mfor\u001b[0m \u001b[0melem\u001b[0m \u001b[0;32min\u001b[0m \u001b[0md\u001b[0m\u001b[0;34m:\u001b[0m\u001b[0;34m\u001b[0m\u001b[0m\n",
      "\u001b[0;31mRuntimeError\u001b[0m: Dimension out of range (expected to be in range of [-1, 0], but got 1)"
     ]
    }
   ],
   "source": [
    "import torch\n",
    "#sentence length = 3, batch size =2, tar. voccab = 6\n",
    "d = [ [[1., 2.,3., 60, 7, 9], [40.,50.,6., 7,8,9]], \n",
    "     [[7.,8.,9.,10,11,12], [11.,12.,13.,14,23,12]] ,\n",
    "      [[7.,8.,9.,10,11,12], [11.,12.,13.,14,23,12]] \n",
    "    ]\n",
    "d = torch.Tensor(d)\n",
    "print(d.shape)\n",
    "y = []\n",
    "for elem in d:\n",
    "    x = []\n",
    "    for arr in elem:\n",
    "        print(arr)\n",
    "        values, indices = arr.max(0)\n",
    "        x.append(indices.item())\n",
    "    print(x)\n",
    "    y.append(x)\n",
    "final_tensor = torch.tensor(y)\n",
    "print(\"final tensor\")\n",
    "print(final_tensor)\n"
   ]
  },
  {
   "cell_type": "code",
   "execution_count": 9,
   "metadata": {},
   "outputs": [
    {
     "name": "stdout",
     "output_type": "stream",
     "text": [
      "[' ', 1, 2, 3, 4]\n"
     ]
    }
   ],
   "source": [
    "import torch \n",
    "x = torch.tensor([])\n",
    "a = torch.tensor([4,5,6])\n",
    "b = torch.tensor([4,5,7])\n",
    "\n",
    "y = [1,2,3,4]\n",
    "print([\" \"] + y)"
   ]
  },
  {
   "cell_type": "code",
   "execution_count": 13,
   "metadata": {},
   "outputs": [
    {
     "name": "stdout",
     "output_type": "stream",
     "text": [
      "GRU(2, 4, num_layers=2, bidirectional=True)\n",
      "torch.Size([5, 1, 2])\n",
      "output  torch.Size([5, 1, 8])\n",
      "tensor([[[-0.2348,  0.1455, -0.1312, -0.1161, -0.5327,  0.0506,  0.3905,\n",
      "           0.3223]],\n",
      "\n",
      "        [[-0.3876,  0.1637, -0.1583, -0.1928, -0.4927,  0.0360,  0.3607,\n",
      "           0.2819]],\n",
      "\n",
      "        [[-0.4832,  0.1402, -0.1290, -0.2384, -0.4476,  0.0354,  0.3076,\n",
      "           0.2401]],\n",
      "\n",
      "        [[-0.5524,  0.1079, -0.0730, -0.2604, -0.3671,  0.0381,  0.2258,\n",
      "           0.1956]],\n",
      "\n",
      "        [[-0.6165,  0.0700, -0.0029, -0.2628, -0.2219,  0.0322,  0.1132,\n",
      "           0.1335]]], grad_fn=<CatBackward>)\n",
      "hn  torch.Size([4, 1, 4])\n",
      "tensor([[[-0.5944, -0.0680, -0.2522,  0.1425]],\n",
      "\n",
      "        [[-0.3744, -0.0371, -0.3949, -0.4223]],\n",
      "\n",
      "        [[-0.6165,  0.0700, -0.0029, -0.2628]],\n",
      "\n",
      "        [[-0.5327,  0.0506,  0.3905,  0.3223]]], grad_fn=<ViewBackward>)\n",
      "tensor([[-0.5327,  0.0506,  0.3905,  0.3223]], grad_fn=<SelectBackward>)\n",
      "tensor([[-0.5944, -0.0680, -0.2522,  0.1425]], grad_fn=<SelectBackward>)\n"
     ]
    }
   ],
   "source": [
    "import torch.nn as nn, torch\n",
    "\n",
    "\n",
    "rnn = nn.GRU(input_size=2,hidden_size=4,num_layers= 2, bidirectional=True)\n",
    "print(rnn)\n",
    "# seq length 5\n",
    "# batcch 1\n",
    "# src sent len 2\n",
    "inp = [\n",
    "            [[0.1, 0.2]],\n",
    "            [[0.1, 0.2]],\n",
    "            [[0.1, 0.2]],\n",
    "            [[0.1, 0.2]],\n",
    "            [[0.1, 0.2]],\n",
    "            \n",
    "      ]\n",
    "print(torch.tensor(inp).shape)\n",
    "# input = torch.randn(5, 1, 2)\n",
    "input = torch.tensor(inp)\n",
    "\n",
    "output, hn = rnn(input)\n",
    "print(\"output \", output.shape)\n",
    "print(output)\n",
    "print(\"hn \", hn.shape)\n",
    "print(hn)\n",
    "print(hn[-1,:,:])\n",
    "print(hn[-4,:,:])\n",
    "\n"
   ]
  },
  {
   "cell_type": "code",
   "execution_count": null,
   "metadata": {},
   "outputs": [],
   "source": []
  },
  {
   "cell_type": "code",
   "execution_count": null,
   "metadata": {},
   "outputs": [],
   "source": []
  },
  {
   "cell_type": "code",
   "execution_count": null,
   "metadata": {},
   "outputs": [],
   "source": []
  },
  {
   "cell_type": "code",
   "execution_count": null,
   "metadata": {},
   "outputs": [],
   "source": []
  }
 ],
 "metadata": {
  "kernelspec": {
   "display_name": "Python 3",
   "language": "python",
   "name": "python3"
  },
  "language_info": {
   "codemirror_mode": {
    "name": "ipython",
    "version": 3
   },
   "file_extension": ".py",
   "mimetype": "text/x-python",
   "name": "python",
   "nbconvert_exporter": "python",
   "pygments_lexer": "ipython3",
   "version": "3.6.5"
  }
 },
 "nbformat": 4,
 "nbformat_minor": 2
}
